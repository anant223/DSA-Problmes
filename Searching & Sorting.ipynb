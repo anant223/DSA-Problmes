{
 "cells": [
  {
   "cell_type": "code",
   "execution_count": 148,
   "id": "5961db12",
   "metadata": {},
   "outputs": [],
   "source": [
    "def nearlySortedArray(arr, t):\n",
    "    n = len(arr)\n",
    "    s = 0\n",
    "    e = n -1\n",
    "    while s < e:\n",
    "        mid = s + (e - s)//2\n",
    "        if arr[mid] == t:\n",
    "            return mid\n",
    "        if mid+1 < n-1 and arr[mid+1] == t:\n",
    "            return mid + 1\n",
    "        if mid-1 >= 0 and arr[mid-1] == t:\n",
    "            return mid -1\n",
    "        elif arr[mid] > t:\n",
    "            e = mid - 2\n",
    "        else:\n",
    "            s = mid  +2\n",
    "    return False\n",
    "        "
   ]
  },
  {
   "cell_type": "code",
   "execution_count": 149,
   "id": "5bc457cd",
   "metadata": {},
   "outputs": [
    {
     "data": {
      "text/plain": [
       "5"
      ]
     },
     "execution_count": 149,
     "metadata": {},
     "output_type": "execute_result"
    }
   ],
   "source": [
    "arr = [10,3,40,20,2,80,70]\n",
    "t = 80\n",
    "nearlySortedArray(arr, t)"
   ]
  },
  {
   "cell_type": "code",
   "execution_count": 150,
   "id": "4535250f",
   "metadata": {},
   "outputs": [],
   "source": [
    "def nearInteger(n, k):\n",
    "    s = 0\n",
    "    e = abs(n)\n",
    "    ans = 0\n",
    "    while s <= e:\n",
    "        mid = s + (e - s)//2\n",
    "        if abs(mid*k) == abs(n):\n",
    "            ans = mid\n",
    "            break\n",
    "        if  abs(mid * k) > abs(n):\n",
    "            e = mid -1\n",
    "        if abs(mid * k) < abs(n):\n",
    "            ans = mid\n",
    "            s = mid +1\n",
    "    if (k < 0 and n < 0) or (k > 0 and n > 0):\n",
    "        return ans\n",
    "    else:\n",
    "        return -ans"
   ]
  },
  {
   "cell_type": "code",
   "execution_count": 151,
   "id": "a879f32d",
   "metadata": {},
   "outputs": [
    {
     "data": {
      "text/plain": [
       "-4"
      ]
     },
     "execution_count": 151,
     "metadata": {},
     "output_type": "execute_result"
    }
   ],
   "source": [
    "nearInteger(36,  -9)"
   ]
  },
  {
   "cell_type": "code",
   "execution_count": 152,
   "id": "278501c8",
   "metadata": {},
   "outputs": [],
   "source": [
    "def  oddOccuringAns(arr):\n",
    "    s = 0\n",
    "    e = len(arr)\n",
    "    while s <= e:\n",
    "        mid = s + (e-s)//2\n",
    "        if (s == e):\n",
    "            return arr[s]\n",
    "        if (mid % 2 == 0):\n",
    "            if arr[mid] == arr[mid + 1]:\n",
    "                s = mid + 2\n",
    "            else:\n",
    "                e = mid\n",
    "        else:\n",
    "            if arr[mid] == arr[mid - 1]:\n",
    "                s = mid + 1\n",
    "            else:\n",
    "                e = mid - 1 \n",
    "    return -1\n",
    "            "
   ]
  },
  {
   "cell_type": "code",
   "execution_count": 153,
   "id": "f5250b62",
   "metadata": {},
   "outputs": [
    {
     "data": {
      "text/plain": [
       "3"
      ]
     },
     "execution_count": 153,
     "metadata": {},
     "output_type": "execute_result"
    }
   ],
   "source": [
    "arr = [1,1,2,2,3,3,4,4,3,606,606,4,4]\n",
    "oddOccuringAns(arr)\n"
   ]
  },
  {
   "cell_type": "code",
   "execution_count": 154,
   "id": "9cd836a3",
   "metadata": {},
   "outputs": [],
   "source": [
    "# find pairs with diffrance k in an array\n",
    "# find k colset element to  agiven value in an array\n",
    "# exponetila search\n",
    "# unbounded Binary Search\n",
    "# Adv b.s\n",
    "    #book alocation\n",
    "    #painter partion\n",
    "    # agrrasive cows\n",
    "    # rot. spot\n",
    "    # exk spot\n",
    "    \n",
    "    "
   ]
  },
  {
   "cell_type": "code",
   "execution_count": 155,
   "id": "871c9085",
   "metadata": {},
   "outputs": [],
   "source": [
    "def kDiff(nums, k):\n",
    "    nums.sort()\n",
    "    i = 0\n",
    "    j = 1\n",
    "    ans = set()\n",
    "    while j < len(nums):\n",
    "        diff = nums[j] - nums[i]\n",
    "        if diff == k and nums[j] != nums[i]:\n",
    "            ans.add((nums[i], nums[j]))\n",
    "            i += 1\n",
    "            j += 1\n",
    "        elif diff > k:\n",
    "            i += 1\n",
    "        else:\n",
    "            j += 1\n",
    "        if i == j:\n",
    "            j+=1\n",
    "    return len(ans)"
   ]
  },
  {
   "cell_type": "code",
   "execution_count": 156,
   "id": "2799f8a6",
   "metadata": {},
   "outputs": [
    {
     "data": {
      "text/plain": [
       "1"
      ]
     },
     "execution_count": 156,
     "metadata": {},
     "output_type": "execute_result"
    }
   ],
   "source": [
    "arr = [1,1,1,2,2]\n",
    "k = 1\n",
    "kDiff(arr, k)"
   ]
  },
  {
   "cell_type": "code",
   "execution_count": 157,
   "id": "8bb44253",
   "metadata": {},
   "outputs": [],
   "source": [
    "def bs(arr, start, t):\n",
    "    end = len(arr) -1\n",
    "    while start <= end:\n",
    "        mid = start + (end-start)//2\n",
    "        if arr[mid] == t:\n",
    "            return mid\n",
    "        elif t > arr[mid]:\n",
    "            start = mid + 1\n",
    "        else:\n",
    "            end = mid - 1\n",
    "    return -1\n",
    "\n",
    "def findPair(arr, k):\n",
    "    arr.sort()\n",
    "    n = len(arr)\n",
    "    ans = set()\n",
    "    for i in range(n):\n",
    "        if bs(arr, i+1, arr[i]+k) != -1:\n",
    "            ans.add((arr[i], arr[i] + k) )\n",
    "    return len(ans)"
   ]
  },
  {
   "cell_type": "code",
   "execution_count": 158,
   "id": "5a8a3d9d",
   "metadata": {},
   "outputs": [
    {
     "data": {
      "text/plain": [
       "2"
      ]
     },
     "execution_count": 158,
     "metadata": {},
     "output_type": "execute_result"
    }
   ],
   "source": [
    "arr = [3,1,4,1,5]\n",
    "k = 2\n",
    "findPair(arr, k)"
   ]
  },
  {
   "cell_type": "code",
   "execution_count": 159,
   "id": "4cdcba3d",
   "metadata": {},
   "outputs": [],
   "source": [
    "def findKClosestNum(arr, k, x):\n",
    "    l = 0\n",
    "    h = len(arr) -1\n",
    "    while h-l >= k:\n",
    "        if (x  - arr[l]) > (arr[h] - x):\n",
    "            l+=1\n",
    "        else:\n",
    "            h-=1\n",
    "    return arr[l: h+1]\n",
    "        \n",
    "        \n",
    "        "
   ]
  },
  {
   "cell_type": "code",
   "execution_count": 160,
   "id": "c0e49c4c",
   "metadata": {},
   "outputs": [
    {
     "data": {
      "text/plain": [
       "[1, 2, 3, 4]"
      ]
     },
     "execution_count": 160,
     "metadata": {},
     "output_type": "execute_result"
    }
   ],
   "source": [
    "arr = [1,2,3,4,5]\n",
    "findKClosestNum(arr, 4, -1)"
   ]
  },
  {
   "cell_type": "code",
   "execution_count": 161,
   "id": "21e9aab4",
   "metadata": {},
   "outputs": [],
   "source": [
    "def findKCloser(arr, k, x):\n",
    "    si = 0\n",
    "    ei = len(arr) -1\n",
    "    while si < ei:\n",
    "        mid =  si + (ei-si)//2\n",
    "        if arr[mid] - x >= arr[mid - 1] - x:\n",
    "            ei = mid -1\n",
    "        else:\n",
    "            si = mid +1\n",
    "    return arr[si-1 : ei + k -1]"
   ]
  },
  {
   "cell_type": "code",
   "execution_count": 162,
   "id": "552513f8",
   "metadata": {},
   "outputs": [
    {
     "data": {
      "text/plain": [
       "[1, 2, 3, 4]"
      ]
     },
     "execution_count": 162,
     "metadata": {},
     "output_type": "execute_result"
    }
   ],
   "source": [
    "arr = [1,2,3,4,5]\n",
    "findKCloser(arr, 4, 3)"
   ]
  },
  {
   "cell_type": "code",
   "execution_count": 163,
   "id": "f7cbfa1e",
   "metadata": {},
   "outputs": [],
   "source": [
    "def bs(a, si, ei, x):\n",
    "    while si < ei:\n",
    "        mid = si + (ei-si)//2\n",
    "        if arr[mid] == x:\n",
    "            return mid\n",
    "        elif arr[mid] > x:\n",
    "            ei = mid - 1\n",
    "        else:\n",
    "            si = mid +1\n",
    "    return -1\n",
    "def expontilaSearch(arr, n, x):\n",
    "    if arr[0] == x:\n",
    "        return 0\n",
    "    i = 1\n",
    "    while i < n and arr[i] <= x:\n",
    "        i = i*3\n",
    "    return bs(arr, i//2, min(i, n-1), x)"
   ]
  },
  {
   "cell_type": "code",
   "execution_count": 164,
   "id": "c3252e29",
   "metadata": {},
   "outputs": [
    {
     "data": {
      "text/plain": [
       "6"
      ]
     },
     "execution_count": 164,
     "metadata": {},
     "output_type": "execute_result"
    }
   ],
   "source": [
    "arr = [3,4,5,6,11,14,15,56,70]\n",
    "n = len(arr)\n",
    "expontilaSearch(arr, n, 15)"
   ]
  },
  {
   "cell_type": "code",
   "execution_count": 177,
   "id": "3b73d5e8",
   "metadata": {},
   "outputs": [],
   "source": [
    "def isPrime(x):\n",
    "    if x <= 1:\n",
    "        return False\n",
    "    i = 2\n",
    "    while i < x:\n",
    "        if(x % i == 0):\n",
    "            return False\n",
    "        i+=1\n",
    "    return True  \n",
    "\n",
    "def countPrimes(n):\n",
    "    i = 0\n",
    "    count = 0\n",
    "    while i < n:\n",
    "        if isPrime(i):\n",
    "            count += 1\n",
    "        i+=1\n",
    "    return count"
   ]
  },
  {
   "cell_type": "code",
   "execution_count": 178,
   "id": "cd35bbe9",
   "metadata": {},
   "outputs": [
    {
     "data": {
      "text/plain": [
       "4"
      ]
     },
     "execution_count": 178,
     "metadata": {},
     "output_type": "execute_result"
    }
   ],
   "source": [
    "countPrimes(10)"
   ]
  },
  {
   "cell_type": "code",
   "execution_count": 179,
   "id": "2d132f12",
   "metadata": {},
   "outputs": [],
   "source": [
    "def isPossible(arr, n, m, sol):\n",
    "    pageSum = 0\n",
    "    c = 1\n",
    "    for i in range(n):\n",
    "        if arr[i] > sol:\n",
    "            return False\n",
    "        if pageSum + arr[i] > sol:\n",
    "            c+=1\n",
    "            pageSum = arr[i]\n",
    "            if(c > m):\n",
    "                return False\n",
    "        else:\n",
    "            pageSum += arr[i]\n",
    "    return True\n",
    "\n",
    "\n",
    "def bookAllocation(arr, n, m):\n",
    "    if m > len(arr):\n",
    "        return -1\n",
    "    start = 0\n",
    "    end = sum(arr)\n",
    "    ans = -1\n",
    "    while start <= end:\n",
    "        mid =  start + (end-start)//2\n",
    "        if (isPossible(arr, n, m, mid)):\n",
    "            ans = mid\n",
    "            end = mid - 1\n",
    "        else:\n",
    "            start = mid + 1\n",
    "            \n",
    "    return ans\n",
    "        "
   ]
  },
  {
   "cell_type": "code",
   "execution_count": 180,
   "id": "9af82d79",
   "metadata": {},
   "outputs": [
    {
     "data": {
      "text/plain": [
       "90"
      ]
     },
     "execution_count": 180,
     "metadata": {},
     "output_type": "execute_result"
    }
   ],
   "source": [
    "arr = [12,34,67,90]\n",
    "m = 3\n",
    "bookAllocation(arr, len(arr), m)"
   ]
  },
  {
   "cell_type": "code",
   "execution_count": 181,
   "id": "fcf64265",
   "metadata": {},
   "outputs": [],
   "source": [
    "import math as m\n",
    "\n",
    "def isPossibleB(arr, h, mid):\n",
    "    if mid == 0:\n",
    "        return False\n",
    "    n = len(arr)\n",
    "    totalTime = 0\n",
    "    for i in range(n):\n",
    "        totalTime += m.ceil(arr[i]/mid)\n",
    "    if totalTime > h:\n",
    "        return False\n",
    "    else:\n",
    "        return True\n",
    "\n",
    "def cocko(arr, h):\n",
    "    s = 0\n",
    "    e = max(arr)\n",
    "    ans = - 1\n",
    "    while s <= e:\n",
    "        mid = s + (e - s)//2\n",
    "        if isPossibleB(arr, h, mid):\n",
    "            ans = mid\n",
    "            print(mid)\n",
    "            e = mid - 1\n",
    "        else:\n",
    "            s = mid + 1\n",
    "    return ans"
   ]
  },
  {
   "cell_type": "code",
   "execution_count": 182,
   "id": "c9e7000d",
   "metadata": {},
   "outputs": [],
   "source": [
    "arr = [12311]"
   ]
  },
  {
   "cell_type": "code",
   "execution_count": 183,
   "id": "002179fb",
   "metadata": {},
   "outputs": [
    {
     "name": "stdout",
     "output_type": "stream",
     "text": [
      "6155\n",
      "3077\n",
      "2692\n",
      "2499\n",
      "2475\n",
      "2463\n"
     ]
    },
    {
     "data": {
      "text/plain": [
       "2463"
      ]
     },
     "execution_count": 183,
     "metadata": {},
     "output_type": "execute_result"
    }
   ],
   "source": [
    "cocko(arr, 5)"
   ]
  },
  {
   "cell_type": "code",
   "execution_count": 184,
   "id": "9d0f592a",
   "metadata": {},
   "outputs": [],
   "source": [
    "def isPartionPossible(arr, k, m):\n",
    "    unit = 0\n",
    "    c = 1\n",
    "    for i in range(len(arr)):\n",
    "        if arr[i] > m:\n",
    "            return False\n",
    "        if arr[i] + unit > m:\n",
    "            c += 1\n",
    "            unit = arr[i]\n",
    "            if c > k:\n",
    "                return False\n",
    "        else:\n",
    "            unit+=arr[i]\n",
    "    return True\n",
    "def painterPartion(arr, k):\n",
    "    s = 0\n",
    "    e = sum(arr)\n",
    "    ans = -1\n",
    "    while s <= e:\n",
    "        mid =  s + (e - s)//2\n",
    "        if isPartionPossible(arr, k, mid):\n",
    "            ans = mid\n",
    "            e = mid - 1\n",
    "        else:\n",
    "            s = mid + 1\n",
    "    return ans\n",
    "            "
   ]
  },
  {
   "cell_type": "code",
   "execution_count": 185,
   "id": "ad8579ba",
   "metadata": {},
   "outputs": [
    {
     "data": {
      "text/plain": [
       "20"
      ]
     },
     "execution_count": 185,
     "metadata": {},
     "output_type": "execute_result"
    }
   ],
   "source": [
    "arr = [10, 10, 10, 10]\n",
    "k = 2\n",
    "painterPartion(arr, k)"
   ]
  },
  {
   "cell_type": "code",
   "execution_count": null,
   "id": "88d2f7c1",
   "metadata": {},
   "outputs": [],
   "source": []
  }
 ],
 "metadata": {
  "kernelspec": {
   "display_name": "Python 3 (ipykernel)",
   "language": "python",
   "name": "python3"
  },
  "language_info": {
   "codemirror_mode": {
    "name": "ipython",
    "version": 3
   },
   "file_extension": ".py",
   "mimetype": "text/x-python",
   "name": "python",
   "nbconvert_exporter": "python",
   "pygments_lexer": "ipython3",
   "version": "3.9.13"
  }
 },
 "nbformat": 4,
 "nbformat_minor": 5
}
